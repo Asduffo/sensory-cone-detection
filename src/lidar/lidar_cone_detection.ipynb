{
  "nbformat": 4,
  "nbformat_minor": 0,
  "metadata": {
    "colab": {
      "name": "lidar_cone_detection.ipynb",
      "provenance": [],
      "collapsed_sections": [
        "3i3JABp6XVPU",
        "D_0Ud59-QO2t",
        "EloEarf7VhBV",
        "vzIHYzwWymd2",
        "nPxg_OD_yvwH"
      ]
    },
    "kernelspec": {
      "name": "python3",
      "display_name": "Python 3"
    },
    "language_info": {
      "name": "python"
    }
  },
  "cells": [
    {
      "cell_type": "markdown",
      "metadata": {
        "id": "ffd78hJqFPdH"
      },
      "source": [
        "# **Lidar cone detection**"
      ]
    },
    {
      "cell_type": "markdown",
      "metadata": {
        "id": "a3uEmrsvUxd0"
      },
      "source": [
        "## **Setup**\n",
        "\n",
        "Setup the repo and the model."
      ]
    },
    {
      "cell_type": "markdown",
      "metadata": {
        "id": "3i3JABp6XVPU"
      },
      "source": [
        "### **Clone the repositories and import the libraries**\n",
        "\n",
        "Clone the repository from the smart application course organization and the one for the yolov5 model and import the libraries needed to work with the porject."
      ]
    },
    {
      "cell_type": "code",
      "metadata": {
        "colab": {
          "base_uri": "https://localhost:8080/"
        },
        "id": "0lFVzjLYHpRh",
        "outputId": "268c4a8e-b1b9-4c08-d0ce-30bd29a2b8e6"
      },
      "source": [
        "!git clone --recurse-submodules -b dev_Petix_Ristori \"https://github.com/unipi-smartapp-2021/lidar-cone-detection\"   # clone our repository\n",
        "!git clone \"https://github.com/ultralytics/yolov5\"  # clone the model repository"
      ],
      "execution_count": 1,
      "outputs": [
        {
          "output_type": "stream",
          "name": "stdout",
          "text": [
            "fatal: destination path 'lidar-cone-detection' already exists and is not an empty directory.\n",
            "fatal: destination path 'yolov5' already exists and is not an empty directory.\n"
          ]
        }
      ]
    },
    {
      "cell_type": "markdown",
      "metadata": {
        "id": "MNLR_IusVerA"
      },
      "source": [
        "Install the requirements."
      ]
    },
    {
      "cell_type": "code",
      "metadata": {
        "id": "mtoC7WcCHyM6"
      },
      "source": [
        "!pip install -r lidar-cone-detection/requirements.txt"
      ],
      "execution_count": null,
      "outputs": []
    },
    {
      "cell_type": "markdown",
      "metadata": {
        "id": "IsnHYOvsUxd9"
      },
      "source": [
        "Import the libraries and mount the drive."
      ]
    },
    {
      "cell_type": "code",
      "metadata": {
        "colab": {
          "base_uri": "https://localhost:8080/"
        },
        "id": "BLlfCk66Uxd9",
        "outputId": "cda3d587-01e4-4db3-bb03-0cd952efca84"
      },
      "source": [
        "from tqdm import tqdm\n",
        "import tarfile\n",
        "from google.colab import drive\n",
        "drive.mount('/content/drive')  # mount the drive"
      ],
      "execution_count": 4,
      "outputs": [
        {
          "output_type": "stream",
          "name": "stdout",
          "text": [
            "Drive already mounted at /content/drive; to attempt to forcibly remount, call drive.mount(\"/content/drive\", force_remount=True).\n"
          ]
        }
      ]
    },
    {
      "cell_type": "markdown",
      "metadata": {
        "id": "D_0Ud59-QO2t"
      },
      "source": [
        "### **Manage the dataset**\n",
        "\n",
        "If the dataset is inside a rosbag extract it, otherwise manage it with the manage_dataset.py method."
      ]
    },
    {
      "cell_type": "code",
      "metadata": {
        "id": "gE1eopTKRpLs"
      },
      "source": [
        "fname = \"/content/drive/Shareddrives/Sensory_data/Recordings/2021-11-28-16-29-25 lidar+camera.tar.xz\"\n",
        "if fname.endswith(\"tar.xz\"):\n",
        "    tar = tarfile.open(fname, \"r:xz\")\n",
        "    tar.extractall(\"lidar_dataset\")\n",
        "    tar.close()"
      ],
      "execution_count": 5,
      "outputs": []
    },
    {
      "cell_type": "markdown",
      "metadata": {
        "id": "GjszdXIf1af-"
      },
      "source": [
        "Manage the dataset by following what is suggested in https://github.com/ultralytics/yolov5/wiki/Train-Custom-Data chapter 1.3. Keep in mind to modify the directory from which you're moving the images (ConeDataset for the first dataset or TRset for the full one).\n",
        "\n",
        "You can decide to convert the images to grayscale ones or not, then the dataset is splited into train, validation and test sets."
      ]
    },
    {
      "cell_type": "code",
      "metadata": {
        "id": "-ofhspN2589x"
      },
      "source": [
        "!python lidar-cone-detection/src/manage_dataset.py --dataset ConeDataset --path lidar-cone-detection/src/datasets/ConeDataset"
      ],
      "execution_count": null,
      "outputs": []
    },
    {
      "cell_type": "markdown",
      "metadata": {
        "id": "EloEarf7VhBV"
      },
      "source": [
        "### **Check the yolov5 model and import the weights**\n",
        "\n",
        "Check if yolov5 is ready and fine."
      ]
    },
    {
      "cell_type": "code",
      "metadata": {
        "colab": {
          "base_uri": "https://localhost:8080/"
        },
        "id": "XqN-E90RIJIn",
        "outputId": "05fd7af0-951b-4b9f-c101-571c0f8b55af"
      },
      "source": [
        "%cd yolov5\n",
        "from yolov5.utils import notebook_init\n",
        "display = notebook_init()  # checks\n",
        "%cd ../"
      ],
      "execution_count": 6,
      "outputs": [
        {
          "output_type": "stream",
          "name": "stderr",
          "text": [
            "YOLOv5 🚀 v6.0-120-g92a7391 torch 1.10.0+cu111 CPU\n"
          ]
        },
        {
          "output_type": "stream",
          "name": "stdout",
          "text": [
            "Setup complete ✅\n",
            "/content\n"
          ]
        }
      ]
    },
    {
      "cell_type": "markdown",
      "metadata": {
        "id": "th1yO-ZIRQqN"
      },
      "source": [
        "Import the yolov5 model, all the available models can be found here: https://github.com/ultralytics/yolov5/releases/."
      ]
    },
    {
      "cell_type": "code",
      "metadata": {
        "colab": {
          "base_uri": "https://localhost:8080/"
        },
        "id": "wd0dUn1QWhH_",
        "outputId": "9b0cba1e-f0b7-4eaa-90a6-69e6669211e8"
      },
      "source": [
        "import requests\n",
        "url = 'https://github.com/ultralytics/yolov5/releases/download/v6.0/yolov5s.pt'\n",
        "r = requests.get(url, allow_redirects=True)\n",
        "open('yolov5s.pt', 'wb').write(r.content)"
      ],
      "execution_count": 7,
      "outputs": [
        {
          "output_type": "execute_result",
          "data": {
            "text/plain": [
              "14698491"
            ]
          },
          "metadata": {},
          "execution_count": 7
        }
      ]
    },
    {
      "cell_type": "markdown",
      "metadata": {
        "id": "vzIHYzwWymd2"
      },
      "source": [
        "## **Convert from rosbag to pcd**\n",
        "\n",
        "If the dataset is inside a rosbag convert each message to a pcd file by calling the right method."
      ]
    },
    {
      "cell_type": "code",
      "metadata": {
        "id": "8VxbMA6AIbRj",
        "colab": {
          "base_uri": "https://localhost:8080/"
        },
        "outputId": "4d16681c-408b-4265-e1ee-56f23be2999e"
      },
      "source": [
        "!python lidar-cone-detection/src/lidar/convert_rosbag_to_pcd.py --rosbag /content/lidar_dataset/2021-11-28-16-29-25.bag --path lidar-cone-detection/src/lidar/pcd_lidar"
      ],
      "execution_count": 9,
      "outputs": [
        {
          "output_type": "stream",
          "name": "stdout",
          "text": [
            "\r  0% 0/1800 [00:00<?, ?it/s]95961901796\n",
            "\r  0% 0/1800 [00:00<?, ?it/s]\n"
          ]
        }
      ]
    },
    {
      "cell_type": "markdown",
      "metadata": {
        "id": "RDyLo3UEWLpn"
      },
      "source": [
        "Save the pcd files inside a tar.gz by using the next command."
      ]
    },
    {
      "cell_type": "code",
      "metadata": {
        "id": "thHeobMWtt2D"
      },
      "source": [
        "!python -m tarfile -c lidar_dataset.tar.gz \"lidar-cone-detection/src/Lidar/pcd_outputs/\""
      ],
      "execution_count": null,
      "outputs": []
    },
    {
      "cell_type": "markdown",
      "metadata": {
        "id": "nPxg_OD_yvwH"
      },
      "source": [
        "## **Train the model**\n",
        "\n",
        "Train the model following the guide from https://github.com/ultralytics/yolov5/blob/master/tutorial.ipynb."
      ]
    },
    {
      "cell_type": "markdown",
      "metadata": {
        "id": "E2ZTpdvIrV13"
      },
      "source": [
        "**Main arguments:**\n",
        "*   *--img*, image size.\n",
        "*   *--batch*, batch size.\n",
        "*   *--epochs*, number of epochs.\n",
        "*   *--data*, the yaml file that specifies where datasets are.\n",
        "*   *--weights*, the model weights (you can find them here https://github.com/ultralytics/yolov5/releases).\n",
        "*   *--cache*, to save a cache file of the train and validation sets.\n",
        "*   *--project*, where to save the results.\n",
        "\n",
        "**An example of train call would be:**\n",
        "\n",
        "!python yolov5/train.py --img img_size --batch batch_size --epochs epochs --data dataset.yaml --weights model --cache --project runs/train\n",
        "\n",
        "\n",
        "\n",
        "\n",
        "\n",
        "\n"
      ]
    },
    {
      "cell_type": "code",
      "metadata": {
        "id": "WXHb1S1INMPi"
      },
      "source": [
        "!python yolov5/train.py --img 640 --batch 8 --epochs 100 --data /content/lidar-cone-detection/conedataset_lidar.yaml --weights yolov5s.pt --cache --project runs/train"
      ],
      "execution_count": null,
      "outputs": []
    }
  ]
}